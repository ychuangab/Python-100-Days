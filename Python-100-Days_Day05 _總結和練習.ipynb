{
 "cells": [
  {
   "cell_type": "markdown",
   "metadata": {},
   "source": [
    "# Python-100-Days / Day01-15 / Day05 /總結和練習\n",
    "## **練習清單**<br>\n",
    "尋找“水仙花數”。<br>\n",
    "尋找“完美數”。<br>\n",
    "“百錢百雞”問題。<br>\n",
    "生成“斐波拉切數列”。<br>\n",
    "骰子賭博遊戲。<br>\n",
    "\n",
    "----"
   ]
  },
  {
   "cell_type": "markdown",
   "metadata": {},
   "source": [
    "\n",
    "# 尋找 \"水仙花數\"\n",
    "\n",
    "https://baike.baidu.com/item/%E6%B0%B4%E4%BB%99%E8%8A%B1%E6%95%B0"
   ]
  },
  {
   "cell_type": "code",
   "execution_count": 50,
   "metadata": {},
   "outputs": [],
   "source": [
    "\n",
    "def narcissistic_number_below_maxpower(max_power):\n",
    "    if max_power < 3: \n",
    "        return \"power must >= 3\"\n",
    "    \n",
    "    X = []\n",
    "    x = 100\n",
    "    y = 10 ** max_power\n",
    "    while x < y:\n",
    "        str_x = str(x)\n",
    "        power_x = len(str_x)\n",
    "        sum_x = 0\n",
    "        for s in str_x:\n",
    "            sum_x += int(s) ** power_x\n",
    "        if sum_x == x:\n",
    "            X.append((power_x, x))\n",
    "        \n",
    "        x += 1\n",
    "    return X\n",
    "\n",
    "\n",
    "def narcissistic_number_below_maxnum(max_num):\n",
    "    if max_num < 100: \n",
    "        return \"max_num should >= 100\"\n",
    "    X = []\n",
    "    x = 100\n",
    "    \n",
    "    while x < max_num:\n",
    "        str_x = str(x)\n",
    "        power_x = len(str_x)\n",
    "        sum_x = 0\n",
    "        for s in str_x:\n",
    "            sum_x += int(s) ** power_x\n",
    "        if sum_x == x:\n",
    "            X.append((power_x, x))\n",
    "        \n",
    "        x += 1\n",
    "    return X"
   ]
  },
  {
   "cell_type": "code",
   "execution_count": 45,
   "metadata": {},
   "outputs": [
    {
     "data": {
      "text/plain": [
       "[(3, 153),\n",
       " (3, 370),\n",
       " (3, 371),\n",
       " (3, 407),\n",
       " (4, 1634),\n",
       " (4, 8208),\n",
       " (4, 9474),\n",
       " (5, 54748),\n",
       " (5, 92727),\n",
       " (5, 93084),\n",
       " (6, 548834)]"
      ]
     },
     "execution_count": 45,
     "metadata": {},
     "output_type": "execute_result"
    }
   ],
   "source": [
    "narcissistic_number_below_maxpower(6)"
   ]
  },
  {
   "cell_type": "code",
   "execution_count": 49,
   "metadata": {},
   "outputs": [
    {
     "data": {
      "text/plain": [
       "[(3, 153),\n",
       " (3, 370),\n",
       " (3, 371),\n",
       " (3, 407),\n",
       " (4, 1634),\n",
       " (4, 8208),\n",
       " (4, 9474),\n",
       " (5, 54748),\n",
       " (5, 92727),\n",
       " (5, 93084),\n",
       " (6, 548834)]"
      ]
     },
     "execution_count": 49,
     "metadata": {},
     "output_type": "execute_result"
    }
   ],
   "source": [
    "narcissistic_number_below_maxnum(999999)"
   ]
  },
  {
   "cell_type": "markdown",
   "metadata": {},
   "source": [
    "# 尋找 \"完美數\"\n",
    "\n",
    "https://baike.baidu.com/item/%E5%AE%8C%E5%85%A8%E6%95%B0/370913"
   ]
  },
  {
   "cell_type": "code",
   "execution_count": 63,
   "metadata": {},
   "outputs": [],
   "source": [
    "def find_perfect_number(num):\n",
    "    X=[]\n",
    "    x = 1\n",
    "    \n",
    "    while x < num:\n",
    "        divisor = []\n",
    "        divisor_sum = 0\n",
    "        \n",
    "        for i in range(1,x):\n",
    "            if x % i == 0:\n",
    "                divisor.append(i)\n",
    "        divisor_sum = sum(divisor)\n",
    "        if x == divisor_sum:\n",
    "            X.append(x)\n",
    "        x += 1\n",
    "    return X"
   ]
  },
  {
   "cell_type": "code",
   "execution_count": 64,
   "metadata": {},
   "outputs": [
    {
     "data": {
      "text/plain": [
       "[6, 28, 496, 8128]"
      ]
     },
     "execution_count": 64,
     "metadata": {},
     "output_type": "execute_result"
    }
   ],
   "source": [
    "find_perfect_number(9999)"
   ]
  },
  {
   "cell_type": "markdown",
   "metadata": {},
   "source": [
    "# “百錢百雞”問題"
   ]
  },
  {
   "cell_type": "code",
   "execution_count": 80,
   "metadata": {},
   "outputs": [
    {
     "name": "stdout",
     "output_type": "stream",
     "text": [
      "cock:0, hen:25, chick:75\n",
      "cock:4, hen:18, chick:78\n",
      "cock:8, hen:11, chick:81\n",
      "cock:12, hen:4, chick:84\n"
     ]
    }
   ],
   "source": [
    "def how_many_chicken(total_chicken, total_money, cock_price, hen_price, chick_unit_1_dollar):\n",
    "    cock_max = int(total_money/cock_price)\n",
    "    hen_max = int(total_money/hen_price)\n",
    "    result = []\n",
    "\n",
    "    for cock in range(cock_max+1):\n",
    "        for hen in range(hen_max+1):\n",
    "            chick = total_chicken - cock - hen\n",
    "            total_price = cock_price * cock + hen_price * hen + chick_price * chick\n",
    "            if (total_chicken - cock - hen) % chick_unit_1_dollar == 0 and total_price == total_money:\n",
    "                result.append((cock, hen, chick))\n",
    "    return result\n",
    "\n",
    "\n",
    "total_chicken = 100\n",
    "total_money = 100\n",
    "cock_price = 5\n",
    "hen_price = 3\n",
    "chick_unit_1_dollar = 3\n",
    "chick_price = 1/chick_unit_1_dollar\n",
    "\n",
    "\n",
    "Y = how_many_chicken(total_chicken, total_money, cock_price, hen_price, chick_unit_1_dollar)\n",
    "for y in Y:\n",
    "    cock, hen, chick = y\n",
    "    print('cock:{}, hen:{}, chick:{}'.format(cock, hen, chick))\n",
    "            \n",
    "           \n",
    "## 1.公鸡0只，母鸡25只，小鸡75只\n",
    "## 2.公鸡4只，母鸡18只，小鸡78只\n",
    "## 3.公鸡8只，母鸡11只，小鸡81只\n",
    "## 4.公鸡12只，母鸡4只，小鸡84只"
   ]
  },
  {
   "cell_type": "markdown",
   "metadata": {},
   "source": [
    "# 生成 \"Fibonacci 數列\"\n",
    "https://en.wikipedia.org/wiki/Fibonacci_number"
   ]
  },
  {
   "cell_type": "code",
   "execution_count": 86,
   "metadata": {},
   "outputs": [],
   "source": [
    "\"\"\"\n",
    "F0 = 0\n",
    "F1 = 1\n",
    "...\n",
    "Fn = Fn-1 + Fn-2\n",
    "\"\"\"\n",
    "\n",
    "def fibonacci(n):\n",
    "    \n",
    "    if n < 0 or type(n) is not int:\n",
    "        return \"n must be int and >= 0\"\n",
    "    elif n < 2:\n",
    "        return n\n",
    "    else:\n",
    "        Fn_1 = 1\n",
    "        Fn_2 = 0\n",
    "        for i in range(n-1):\n",
    "            Fn = Fn_1 + Fn_2\n",
    "            Fn_2 = Fn_1\n",
    "            Fn_1 = Fn\n",
    "            #print(Fn_1,Fn_2)\n",
    "        return Fn\n",
    "            "
   ]
  },
  {
   "cell_type": "code",
   "execution_count": 93,
   "metadata": {},
   "outputs": [
    {
     "name": "stdout",
     "output_type": "stream",
     "text": [
      "Fibonacci 數列\n",
      "F0 : 0\n",
      "F1 : 1\n",
      "F2 : 1\n",
      "F3 : 2\n",
      "F4 : 3\n",
      "F5 : 5\n",
      "F6 : 8\n",
      "F7 : 13\n",
      "F8 : 21\n",
      "F9 : 34\n",
      "F10 : 55\n",
      "F11 : 89\n",
      "F12 : 144\n",
      "F13 : 233\n",
      "F14 : 377\n",
      "F15 : 610\n",
      "F16 : 987\n",
      "F17 : 1597\n",
      "F18 : 2584\n",
      "F19 : 4181\n",
      "F20 : 6765\n",
      "F21 : 10946\n",
      "F22 : 17711\n",
      "F23 : 28657\n",
      "F24 : 46368\n",
      "F25 : 75025\n",
      "F26 : 121393\n",
      "F27 : 196418\n",
      "F28 : 317811\n",
      "F29 : 514229\n"
     ]
    }
   ],
   "source": [
    "print('Fibonacci 數列')\n",
    "for i in range(30):\n",
    "    print('F{} : {}'.format(i,fibonacci(i)))"
   ]
  },
  {
   "cell_type": "code",
   "execution_count": 2,
   "metadata": {},
   "outputs": [
    {
     "name": "stdout",
     "output_type": "stream",
     "text": [
      "1\n",
      "1\n",
      "2\n",
      "3\n",
      "5\n",
      "8\n",
      "13\n",
      "21\n",
      "34\n",
      "55\n"
     ]
    }
   ],
   "source": [
    "## generator version\n",
    "\n",
    "def fib(n):\n",
    "    a, b = 0, 1\n",
    "    for _ in range(n):\n",
    "        a, b = b, a + b\n",
    "        yield a\n",
    "\n",
    "\n",
    "def main(n):\n",
    "    for val in fib(n):\n",
    "        print(val)\n",
    "\n",
    "\n",
    "if __name__ == '__main__':\n",
    "    main(10)"
   ]
  },
  {
   "cell_type": "markdown",
   "metadata": {},
   "source": [
    "# Craps赌博游戏\n",
    "https://openhome.cc/Gossip/AlgorithmGossip/CrapsGame.htm\n",
    "\n",
    "\n",
    "一個簡單的賭博遊戲，遊戲規則如下：玩家擲兩個骰子，點數為1到6，如果第一次點數和為7或11，則玩家勝，如果點數和為2、3或12，則玩家輸，如果和 為其它點數，則記錄第一次的點數和，然後繼續擲骰，直至點數和等於第一次擲出的點數和，則玩家勝，如果在這之前擲出了點數和為7，則玩家輸。"
   ]
  },
  {
   "cell_type": "code",
   "execution_count": 156,
   "metadata": {},
   "outputs": [],
   "source": [
    "def two_dice_sum():\n",
    "    import random\n",
    "    return random.randint(1,6) + random.randint(1,6)\n",
    "\n",
    "\n",
    "def craps_gamble_game():\n",
    "    player_win = None\n",
    "    \n",
    "    i_game = 1\n",
    "    first_game = two_dice_sum()    \n",
    "    \n",
    "    if first_game in {7,11}:\n",
    "        player_win = True\n",
    "        return (i_game, player_win, first_game)\n",
    "    \n",
    "    elif first_game in {2,3,12}:\n",
    "        player_win = False\n",
    "        return (i_game, player_win, first_game)\n",
    "    \n",
    "    \n",
    "    while player_win is None:\n",
    "        i_game += 1\n",
    "        game = two_dice_sum()\n",
    "        \n",
    "        if game == first_game:\n",
    "            player_win = True\n",
    "            return (i_game, player_win, game)\n",
    "        elif game == 7:\n",
    "            player_win = False\n",
    "            return (i_game, player_win, game)\n",
    "        \n",
    "        \n",
    "        if i_game > 10000:\n",
    "            break\n",
    "            \n",
    "    return i_game\n",
    "    \n",
    "    "
   ]
  },
  {
   "cell_type": "code",
   "execution_count": 159,
   "metadata": {},
   "outputs": [
    {
     "name": "stdout",
     "output_type": "stream",
     "text": [
      "(4, True, 10)\n",
      "(4, False, 7)\n",
      "(3, False, 7)\n",
      "(2, False, 7)\n",
      "(1, True, 7)\n",
      "(2, False, 7)\n",
      "(2, True, 6)\n",
      "(4, False, 7)\n",
      "(1, True, 11)\n",
      "(1, True, 7)\n"
     ]
    }
   ],
   "source": [
    "for i in range(10):\n",
    "    print(craps_gamble_game())"
   ]
  },
  {
   "cell_type": "code",
   "execution_count": null,
   "metadata": {},
   "outputs": [],
   "source": []
  },
  {
   "cell_type": "code",
   "execution_count": 154,
   "metadata": {},
   "outputs": [
    {
     "name": "stdout",
     "output_type": "stream",
     "text": [
      "玩家點數：[11]\n",
      "玩家勝\n"
     ]
    }
   ],
   "source": [
    "\"\"\"\n",
    "Reference\n",
    "\"\"\"\n",
    "\n",
    "from random import randint\n",
    "\n",
    "class Status:\n",
    "    LOST = 0\n",
    "    WON = 1\n",
    "    CONTINUE = 2\n",
    "    \n",
    "def initialRoll(firstPoint):\n",
    "    return Status.WON if firstPoint in [7, 11] else \\\n",
    "    (Status.LOST if firstPoint in [2, 3, 12] else Status.CONTINUE)\n",
    "\n",
    "def reRoll(firstPoint, point):\n",
    "    return Status.WON if firstPoint == point else \\\n",
    "    (Status.LOST if 7 == point else Status.CONTINUE)\n",
    "\n",
    "def dice():\n",
    "    return randint(1, 6) + randint(1, 6)\n",
    "\n",
    "firstPoint = dice()\n",
    "print(\"玩家點數：[%d]\" % firstPoint)\n",
    "status = initialRoll(firstPoint)\n",
    "\n",
    "while status == Status.CONTINUE:\n",
    "    point = dice()\n",
    "    print(\"玩家點數：%d\" % point)\n",
    "    status = reRoll(firstPoint, point)\n",
    "\n",
    "print(\"玩家勝\" if status == Status.WON else \"玩家輸\")"
   ]
  },
  {
   "cell_type": "code",
   "execution_count": null,
   "metadata": {},
   "outputs": [],
   "source": []
  },
  {
   "cell_type": "code",
   "execution_count": null,
   "metadata": {},
   "outputs": [],
   "source": []
  },
  {
   "cell_type": "code",
   "execution_count": null,
   "metadata": {},
   "outputs": [],
   "source": []
  }
 ],
 "metadata": {
  "kernelspec": {
   "display_name": "Python 3",
   "language": "python",
   "name": "python3"
  },
  "language_info": {
   "codemirror_mode": {
    "name": "ipython",
    "version": 3
   },
   "file_extension": ".py",
   "mimetype": "text/x-python",
   "name": "python",
   "nbconvert_exporter": "python",
   "pygments_lexer": "ipython3",
   "version": "3.6.8"
  }
 },
 "nbformat": 4,
 "nbformat_minor": 2
}
